{
 "cells": [
  {
   "cell_type": "code",
   "execution_count": 1,
   "id": "eafccebb",
   "metadata": {},
   "outputs": [],
   "source": [
    "import numpy as np      # Linear algebra\n",
    "import pandas as pd     #data processing "
   ]
  },
  {
   "cell_type": "markdown",
   "id": "46dcf174",
   "metadata": {},
   "source": [
    "### Function- This function converts 'dateTime' to Unix TimeStamps"
   ]
  },
  {
   "cell_type": "code",
   "execution_count": 2,
   "id": "e498de56",
   "metadata": {},
   "outputs": [],
   "source": [
    "def datetounix(df):\n",
    "    # Initialising unixtime list\n",
    "    unixtime = []\n",
    "    \n",
    "    # Running a loop for converting Date to seconds\n",
    "    for date in df['DateTime']:\n",
    "        unixtime.append(time.mktime(date.timetuple()))\n",
    "    \n",
    "    # Replacing Date with unixtime list\n",
    "    df['DateTime'] = unixtime\n",
    "    return(df)"
   ]
  },
  {
   "cell_type": "markdown",
   "id": "d2a8353a",
   "metadata": {},
   "source": [
    "#### Importing all the libraries for the furthur process"
   ]
  },
  {
   "cell_type": "code",
   "execution_count": 3,
   "id": "a482e006",
   "metadata": {},
   "outputs": [],
   "source": [
    "import os\n",
    "import pandas as pd\n",
    "import numpy as np\n",
    "import matplotlib.pyplot as plt\n",
    "from datetime import datetime\n",
    "import time\n",
    "from sklearn.ensemble import ExtraTreesClassifier\n",
    "import operator\n",
    "from sklearn.tree import DecisionTreeClassifier\n",
    "from sklearn.preprocessing import StandardScaler"
   ]
  },
  {
   "cell_type": "markdown",
   "id": "51cf3e90",
   "metadata": {},
   "source": [
    "**Data Cleaning**<br>\n",
    "First task at hand is data cleaning. Loading Data from dataset and cleaning it up."
   ]
  },
  {
   "cell_type": "code",
   "execution_count": 4,
   "id": "957a3611",
   "metadata": {
    "scrolled": true
   },
   "outputs": [
    {
     "name": "stdout",
     "output_type": "stream",
     "text": [
      "<class 'pandas.core.frame.DataFrame'>\n",
      "RangeIndex: 11808 entries, 0 to 11807\n",
      "Data columns (total 3 columns):\n",
      " #   Column    Non-Null Count  Dtype \n",
      "---  ------    --------------  ----- \n",
      " 0   DateTime  11808 non-null  object\n",
      " 1   Junction  11808 non-null  int64 \n",
      " 2   ID        11808 non-null  int64 \n",
      "dtypes: int64(2), object(1)\n",
      "memory usage: 276.9+ KB\n"
     ]
    }
   ],
   "source": [
    "#Reading the training dataframe\n",
    "df_train=pd.read_csv('D:\\\\Amity\\\\Semester 7\\\\Internship_NTCC\\\\upskill\\\\smart-city-traffic-patterns\\\\train_aWnotuB.csv',encoding='ISO-8859-1',engine='c')\n",
    "df_train\n",
    "#Reading the testing dataframe\n",
    "df_test=pd.read_csv('D:\\\\Amity\\\\Semester 7\\\\Internship_NTCC\\\\upskill\\\\smart-city-traffic-patterns\\\\datasets_8494_11879_test_BdBKkAj.csv',encoding='ISO-8859-1',engine='c')\n",
    "df_test.info()"
   ]
  },
  {
   "cell_type": "markdown",
   "id": "c05a496e",
   "metadata": {},
   "source": [
    "**Printing the size of test and training dataset**"
   ]
  },
  {
   "cell_type": "code",
   "execution_count": 5,
   "id": "018ee5be",
   "metadata": {},
   "outputs": [
    {
     "name": "stdout",
     "output_type": "stream",
     "text": [
      "Size of training dataset: (48120, 4)\n",
      "Size of testing dataset: (11808, 3)\n"
     ]
    }
   ],
   "source": [
    "print(\"Size of training dataset:\",df_train.shape)\n",
    "print(\"Size of testing dataset:\",df_test.shape)"
   ]
  },
  {
   "cell_type": "markdown",
   "id": "32e11c71",
   "metadata": {},
   "source": [
    "### Checking the missing values from the dataset"
   ]
  },
  {
   "cell_type": "code",
   "execution_count": 6,
   "id": "489bde9e",
   "metadata": {},
   "outputs": [
    {
     "name": "stdout",
     "output_type": "stream",
     "text": [
      "train: DateTime    0\n",
      "Junction    0\n",
      "Vehicles    0\n",
      "ID          0\n",
      "dtype: int64\n",
      "\n",
      "test: DateTime    0\n",
      "Junction    0\n",
      "ID          0\n",
      "dtype: int64\n"
     ]
    }
   ],
   "source": [
    "print('train:',df_train.isnull().sum())\n",
    "print()\n",
    "print('test:',df_test.isnull().sum())"
   ]
  },
  {
   "cell_type": "code",
   "execution_count": 7,
   "id": "d9ee62bc",
   "metadata": {},
   "outputs": [
    {
     "name": "stdout",
     "output_type": "stream",
     "text": [
      "<class 'pandas.core.frame.DataFrame'>\n",
      "RangeIndex: 11808 entries, 0 to 11807\n",
      "Data columns (total 3 columns):\n",
      " #   Column    Non-Null Count  Dtype         \n",
      "---  ------    --------------  -----         \n",
      " 0   DateTime  11808 non-null  datetime64[ns]\n",
      " 1   Junction  11808 non-null  int64         \n",
      " 2   ID        11808 non-null  int64         \n",
      "dtypes: datetime64[ns](1), int64(2)\n",
      "memory usage: 276.9 KB\n"
     ]
    }
   ],
   "source": [
    "# Converting to datetime\n",
    "df_train['DateTime'] = pd.to_datetime(df_train['DateTime'])\n",
    "df_test['DateTime'] = pd.to_datetime(df_test['DateTime'])\n",
    "df_test.info()"
   ]
  },
  {
   "cell_type": "code",
   "execution_count": 8,
   "id": "7a0e894c",
   "metadata": {},
   "outputs": [],
   "source": [
    "# Creating features from DateTime for train data\n",
    "\n",
    "df_test['Weekday'] = [datetime.weekday(date) for date in df_test.DateTime]\n",
    "df_test['Year'] = [date.year for date in df_test.DateTime]\n",
    "df_test['Month'] = [date.month for date in df_test.DateTime]\n",
    "df_test['Day'] = [date.day for date in df_test.DateTime]\n",
    "df_test['Time'] = [((date.hour*60+(date.minute))*60)+date.second for date in df_test.DateTime]\n",
    "df_test['Week'] = [date.week for date in df_test.DateTime]\n",
    "df_test['Quarter'] = [date.quarter for date in df_test.DateTime]\n",
    "\n",
    "# Creating features from DateTime for test data\n",
    "\n",
    "df_train['Weekday'] = [datetime.weekday(date) for date in df_train.DateTime]\n",
    "df_train['Year'] = [date.year for date in df_train.DateTime]\n",
    "df_train['Month'] = [date.month for date in df_train.DateTime]\n",
    "df_train['Day'] = [date.day for date in df_train.DateTime]\n",
    "df_train['Time'] = [((date.hour*60+(date.minute))*60)+date.second for date in df_train.DateTime]\n",
    "df_train['Week'] = [date.week for date in df_train.DateTime]\n",
    "df_train['Quarter'] = [date.quarter for date in df_train.DateTime]"
   ]
  },
  {
   "cell_type": "markdown",
   "id": "20e7dfe8",
   "metadata": {},
   "source": [
    "### Analysis Phase"
   ]
  },
  {
   "cell_type": "code",
   "execution_count": 9,
   "id": "a2dc9418",
   "metadata": {},
   "outputs": [
    {
     "name": "stdout",
     "output_type": "stream",
     "text": [
      "Feature ranking:\n",
      "feature 0 : DateTime (0.370381)\n",
      "feature 7 : Time (0.353886)\n",
      "feature 6 : Day (0.067653)\n",
      "feature 3 : Weekday (0.062813)\n",
      "feature 2 : ID (0.053250)\n",
      "feature 1 : Junction (0.049588)\n",
      "feature 8 : Week (0.030743)\n",
      "feature 5 : Month (0.007641)\n",
      "feature 9 : Quarter (0.002265)\n",
      "feature 4 : Year (0.001780)\n"
     ]
    },
    {
     "data": {
      "image/png": "[encoded data removed]",
      "text/plain": [
       "<Figure size 432x288 with 1 Axes>"
      ]
     },
     "metadata": {
      "needs_background": "light"
     },
     "output_type": "display_data"
    }
   ],
   "source": [
    "# create an instance for tree feature selection\n",
    "tree_clf = ExtraTreesClassifier()\n",
    "\n",
    "# first create arrays holding input and output data\n",
    "# get the features into an array X\n",
    "# remove target column from the df\n",
    "df_train_features = df_train.drop(['Vehicles'], axis=1)\n",
    "\n",
    "# Convet timestamp to seconds\n",
    "df_train_features = datetounix(df_train_features)\n",
    "\n",
    "# store features in X array\n",
    "X = df_train_features.values\n",
    "\n",
    "# Store target feature in y array\n",
    "y = df_train['Vehicles'].values\n",
    "\n",
    "# fit the model\n",
    "tree_clf.fit(X, y)\n",
    "\n",
    "# Preparing variables\n",
    "importances = tree_clf.feature_importances_\n",
    "feature_names = df_train_features.columns.tolist()\n",
    "\n",
    "feature_imp_dict = dict(zip(feature_names, importances))\n",
    "sorted_features = sorted(feature_imp_dict.items(), key=operator.itemgetter(1), reverse=True)\n",
    "\n",
    "indices = np.argsort(importances)[::-1]\n",
    "\n",
    "# Print the feature ranking\n",
    "print(\"Feature ranking:\")\n",
    "\n",
    "for f in range(X.shape[1]):\n",
    "    print(\"feature %d : %s (%f)\" % (indices[f], sorted_features[f][0], sorted_features[f][1]))\n",
    "\n",
    "# Plot the feature importances of the forest\n",
    "plt.figure(0)\n",
    "plt.title(\"Feature importances\")\n",
    "plt.bar(range(X.shape[1]), importances[indices],\n",
    "       color=\"r\", align=\"center\")\n",
    "plt.xticks(range(X.shape[1]), indices)\n",
    "plt.xlim([-1, X.shape[1]])\n",
    "plt.show()"
   ]
  },
  {
   "cell_type": "code",
   "execution_count": 10,
   "id": "d02a391d",
   "metadata": {},
   "outputs": [
    {
     "data": {
      "image/png": "[encoded data removed]",
      "text/plain": [
       "<Figure size 432x288 with 1 Axes>"
      ]
     },
     "metadata": {
      "needs_background": "light"
     },
     "output_type": "display_data"
    }
   ],
   "source": [
    "# Visualising the histogram for positive reviews only from train and dataset\n",
    "data = df_train.Vehicles\n",
    "binwidth = 1\n",
    "plt.hist(data, bins=range(min(data), max(data) + binwidth, binwidth), log=False)\n",
    "plt.title(\"Gaussian Histogram\")\n",
    "plt.xlabel(\"Traffic\")\n",
    "plt.ylabel(\"Number of times\")\n",
    "plt.show()"
   ]
  },
  {
   "cell_type": "code",
   "execution_count": 11,
   "id": "f868322e",
   "metadata": {},
   "outputs": [],
   "source": [
    "######################################## X_test creation for Prediction #################################\n",
    "\n",
    "# Convert timestamp to seconds\n",
    "df_test_features = datetounix(df_test.drop(['Year', 'Quarter', 'Month', 'ID'], axis=1))\n",
    "\n",
    "# Create X_test from the test set\n",
    "\n",
    "X_test = df_test_features.values\n",
    "\n",
    "######################################## Dropping Features from train set #######################\n",
    "\n",
    "df_train_features = df_train.drop(['Vehicles','Year', 'Quarter', 'Month', 'ID'], axis=1)\n",
    "\n",
    "# Convert timestamp to seconds\n",
    "df_train_features = datetounix(df_train_features)\n",
    "\n",
    "# store features in X array\n",
    "X = df_train_features.values\n",
    "\n",
    "# store target in y array\n",
    "y = df_train['Vehicles'].values"
   ]
  },
  {
   "cell_type": "markdown",
   "id": "8ba211df",
   "metadata": {},
   "source": [
    "**Using Decision Tree to make forcasting model**"
   ]
  },
  {
   "cell_type": "code",
   "execution_count": 12,
   "id": "5d07797a",
   "metadata": {},
   "outputs": [
    {
     "name": "stdout",
     "output_type": "stream",
     "text": [
      "The time taken to execute is 1.7998058795928955 seconds\n"
     ]
    },
    {
     "data": {
      "text/html": [
       "<div>\n",
       "<style scoped>\n",
       "    .dataframe tbody tr th:only-of-type {\n",
       "        vertical-align: middle;\n",
       "    }\n",
       "\n",
       "    .dataframe tbody tr th {\n",
       "        vertical-align: top;\n",
       "    }\n",
       "\n",
       "    .dataframe thead th {\n",
       "        text-align: right;\n",
       "    }\n",
       "</style>\n",
       "<table border=\"1\" class=\"dataframe\">\n",
       "  <thead>\n",
       "    <tr style=\"text-align: right;\">\n",
       "      <th></th>\n",
       "      <th>ID</th>\n",
       "      <th>Vehicles</th>\n",
       "    </tr>\n",
       "  </thead>\n",
       "  <tbody>\n",
       "    <tr>\n",
       "      <th>0</th>\n",
       "      <td>20170701001</td>\n",
       "      <td>70</td>\n",
       "    </tr>\n",
       "    <tr>\n",
       "      <th>1</th>\n",
       "      <td>20170701011</td>\n",
       "      <td>62</td>\n",
       "    </tr>\n",
       "    <tr>\n",
       "      <th>2</th>\n",
       "      <td>20170701021</td>\n",
       "      <td>52</td>\n",
       "    </tr>\n",
       "    <tr>\n",
       "      <th>3</th>\n",
       "      <td>20170701031</td>\n",
       "      <td>39</td>\n",
       "    </tr>\n",
       "    <tr>\n",
       "      <th>4</th>\n",
       "      <td>20170701041</td>\n",
       "      <td>40</td>\n",
       "    </tr>\n",
       "    <tr>\n",
       "      <th>...</th>\n",
       "      <td>...</td>\n",
       "      <td>...</td>\n",
       "    </tr>\n",
       "    <tr>\n",
       "      <th>11803</th>\n",
       "      <td>20171031194</td>\n",
       "      <td>30</td>\n",
       "    </tr>\n",
       "    <tr>\n",
       "      <th>11804</th>\n",
       "      <td>20171031204</td>\n",
       "      <td>30</td>\n",
       "    </tr>\n",
       "    <tr>\n",
       "      <th>11805</th>\n",
       "      <td>20171031214</td>\n",
       "      <td>16</td>\n",
       "    </tr>\n",
       "    <tr>\n",
       "      <th>11806</th>\n",
       "      <td>20171031224</td>\n",
       "      <td>22</td>\n",
       "    </tr>\n",
       "    <tr>\n",
       "      <th>11807</th>\n",
       "      <td>20171031234</td>\n",
       "      <td>12</td>\n",
       "    </tr>\n",
       "  </tbody>\n",
       "</table>\n",
       "<p>11808 rows × 2 columns</p>\n",
       "</div>"
      ],
      "text/plain": [
       "                ID  Vehicles\n",
       "0      20170701001        70\n",
       "1      20170701011        62\n",
       "2      20170701021        52\n",
       "3      20170701031        39\n",
       "4      20170701041        40\n",
       "...            ...       ...\n",
       "11803  20171031194        30\n",
       "11804  20171031204        30\n",
       "11805  20171031214        16\n",
       "11806  20171031224        22\n",
       "11807  20171031234        12\n",
       "\n",
       "[11808 rows x 2 columns]"
      ]
     },
     "execution_count": 12,
     "metadata": {},
     "output_type": "execute_result"
    }
   ],
   "source": [
    "# Data prep\n",
    "df_solution = pd.DataFrame()\n",
    "df_solution['ID'] = df_test.ID\n",
    "\n",
    "# Starting time for time calculations\n",
    "start_time = time.time()\n",
    "\n",
    "# Create decision tree object\n",
    "clf = DecisionTreeClassifier(criterion='gini', random_state = 13)\n",
    "\n",
    "# fit the model\n",
    "clf.fit(X, y)\n",
    "\n",
    "# predict the outcome for testing data\n",
    "predictions = clf.predict(X_test)\n",
    "\n",
    "print(\"The time taken to execute is %s seconds\" % (time.time() - start_time))\n",
    "\n",
    "# Prepare Solution dataframe\n",
    "df_solution['Vehicles'] = predictions\n",
    "df_solution"
   ]
  },
  {
   "cell_type": "code",
   "execution_count": 13,
   "id": "ae4910f1",
   "metadata": {},
   "outputs": [],
   "source": [
    "df_pred = pd.DataFrame(df_solution)"
   ]
  },
  {
   "cell_type": "code",
   "execution_count": 14,
   "id": "88bbe7c3",
   "metadata": {},
   "outputs": [],
   "source": [
    "df_pred['new_index'] = [n for n in range(48120, 59928)]"
   ]
  },
  {
   "cell_type": "code",
   "execution_count": 15,
   "id": "ff64a95b",
   "metadata": {},
   "outputs": [
    {
     "data": {
      "text/html": [
       "<div>\n",
       "<style scoped>\n",
       "    .dataframe tbody tr th:only-of-type {\n",
       "        vertical-align: middle;\n",
       "    }\n",
       "\n",
       "    .dataframe tbody tr th {\n",
       "        vertical-align: top;\n",
       "    }\n",
       "\n",
       "    .dataframe thead th {\n",
       "        text-align: right;\n",
       "    }\n",
       "</style>\n",
       "<table border=\"1\" class=\"dataframe\">\n",
       "  <thead>\n",
       "    <tr style=\"text-align: right;\">\n",
       "      <th></th>\n",
       "      <th>Junction</th>\n",
       "      <th>Vehicles</th>\n",
       "      <th>ID</th>\n",
       "    </tr>\n",
       "  </thead>\n",
       "  <tbody>\n",
       "    <tr>\n",
       "      <th>0</th>\n",
       "      <td>1</td>\n",
       "      <td>15</td>\n",
       "      <td>20151101001</td>\n",
       "    </tr>\n",
       "    <tr>\n",
       "      <th>1</th>\n",
       "      <td>1</td>\n",
       "      <td>13</td>\n",
       "      <td>20151101011</td>\n",
       "    </tr>\n",
       "    <tr>\n",
       "      <th>2</th>\n",
       "      <td>1</td>\n",
       "      <td>10</td>\n",
       "      <td>20151101021</td>\n",
       "    </tr>\n",
       "    <tr>\n",
       "      <th>3</th>\n",
       "      <td>1</td>\n",
       "      <td>7</td>\n",
       "      <td>20151101031</td>\n",
       "    </tr>\n",
       "    <tr>\n",
       "      <th>4</th>\n",
       "      <td>1</td>\n",
       "      <td>9</td>\n",
       "      <td>20151101041</td>\n",
       "    </tr>\n",
       "    <tr>\n",
       "      <th>...</th>\n",
       "      <td>...</td>\n",
       "      <td>...</td>\n",
       "      <td>...</td>\n",
       "    </tr>\n",
       "    <tr>\n",
       "      <th>59923</th>\n",
       "      <td>4</td>\n",
       "      <td>30</td>\n",
       "      <td>20171031194</td>\n",
       "    </tr>\n",
       "    <tr>\n",
       "      <th>59924</th>\n",
       "      <td>4</td>\n",
       "      <td>30</td>\n",
       "      <td>20171031204</td>\n",
       "    </tr>\n",
       "    <tr>\n",
       "      <th>59925</th>\n",
       "      <td>4</td>\n",
       "      <td>16</td>\n",
       "      <td>20171031214</td>\n",
       "    </tr>\n",
       "    <tr>\n",
       "      <th>59926</th>\n",
       "      <td>4</td>\n",
       "      <td>22</td>\n",
       "      <td>20171031224</td>\n",
       "    </tr>\n",
       "    <tr>\n",
       "      <th>59927</th>\n",
       "      <td>4</td>\n",
       "      <td>12</td>\n",
       "      <td>20171031234</td>\n",
       "    </tr>\n",
       "  </tbody>\n",
       "</table>\n",
       "<p>59928 rows × 3 columns</p>\n",
       "</div>"
      ],
      "text/plain": [
       "       Junction  Vehicles           ID\n",
       "0             1        15  20151101001\n",
       "1             1        13  20151101011\n",
       "2             1        10  20151101021\n",
       "3             1         7  20151101031\n",
       "4             1         9  20151101041\n",
       "...         ...       ...          ...\n",
       "59923         4        30  20171031194\n",
       "59924         4        30  20171031204\n",
       "59925         4        16  20171031214\n",
       "59926         4        22  20171031224\n",
       "59927         4        12  20171031234\n",
       "\n",
       "[59928 rows x 3 columns]"
      ]
     },
     "execution_count": 15,
     "metadata": {},
     "output_type": "execute_result"
    }
   ],
   "source": [
    "df_pred.set_index('new_index', inplace = True)\n",
    "df = pd.merge(df_test.drop(['DateTime', 'Weekday', 'Year', 'Month', 'Day', 'Time', 'Week', 'Quarter'], axis = 1), df_pred, \n",
    "              how='inner', on = 'ID')\n",
    "df.set_index(df_pred.index, inplace = True)\n",
    "frames = [df_train.drop(['DateTime', 'Weekday', 'Year', 'Month', 'Day', 'Time', 'Week', 'Quarter'], axis = 1), df]\n",
    "df = pd.concat(frames)\n",
    "df"
   ]
  },
  {
   "cell_type": "code",
   "execution_count": 17,
   "id": "c9dd894c",
   "metadata": {},
   "outputs": [
    {
     "data": {
      "text/plain": [
       "<AxesSubplot:>"
      ]
     },
     "execution_count": 17,
     "metadata": {},
     "output_type": "execute_result"
    },
    {
     "data": {
      "image/png": "[encoded data removed]",
      "text/plain": [
       "<Figure size 432x288 with 1 Axes>"
      ]
     },
     "metadata": {
      "needs_background": "light"
     },
     "output_type": "display_data"
    }
   ],
   "source": [
    "df[df['Junction'] == 1]['Vehicles'].plot(legend=True, label='Junction1')"
   ]
  },
  {
   "cell_type": "code",
   "execution_count": 18,
   "id": "ed88e216",
   "metadata": {},
   "outputs": [
    {
     "data": {
      "text/plain": [
       "<AxesSubplot:>"
      ]
     },
     "execution_count": 18,
     "metadata": {},
     "output_type": "execute_result"
    },
    {
     "data": {
      "image/png": "[encoded data removed]",
      "text/plain": [
       "<Figure size 432x288 with 1 Axes>"
      ]
     },
     "metadata": {
      "needs_background": "light"
     },
     "output_type": "display_data"
    }
   ],
   "source": [
    "df[df['Junction'] == 2]['Vehicles'].plot(legend=True, label='Juntion2')"
   ]
  },
  {
   "cell_type": "code",
   "execution_count": 19,
   "id": "8a017f80",
   "metadata": {},
   "outputs": [
    {
     "data": {
      "text/plain": [
       "<AxesSubplot:>"
      ]
     },
     "execution_count": 19,
     "metadata": {},
     "output_type": "execute_result"
    },
    {
     "data": {
      "image/png": "[encoded data removed]",
      "text/plain": [
       "<Figure size 432x288 with 1 Axes>"
      ]
     },
     "metadata": {
      "needs_background": "light"
     },
     "output_type": "display_data"
    }
   ],
   "source": [
    "df[df['Junction'] == 3]['Vehicles'].plot(legend=True, label='Juntion3')"
   ]
  },
  {
   "cell_type": "code",
   "execution_count": 20,
   "id": "dcac76bd",
   "metadata": {},
   "outputs": [
    {
     "data": {
      "text/plain": [
       "<AxesSubplot:>"
      ]
     },
     "execution_count": 20,
     "metadata": {},
     "output_type": "execute_result"
    },
    {
     "data": {
      "image/png": "[encoded data removed]",
      "text/plain": [
       "<Figure size 432x288 with 1 Axes>"
      ]
     },
     "metadata": {
      "needs_background": "light"
     },
     "output_type": "display_data"
    }
   ],
   "source": [
    "df[df['Junction'] == 4]['Vehicles'].plot(legend=True, label='Juntion4')"
   ]
  },
  {
   "cell_type": "code",
   "execution_count": 21,
   "id": "c76e5f45",
   "metadata": {},
   "outputs": [
    {
     "data": {
      "text/plain": [
       "<AxesSubplot:xlabel='new_index'>"
      ]
     },
     "execution_count": 21,
     "metadata": {},
     "output_type": "execute_result"
    },
    {
     "data": {
      "image/png": "[encoded data removed]",
      "text/plain": [
       "<Figure size 1080x720 with 1 Axes>"
      ]
     },
     "metadata": {
      "needs_background": "light"
     },
     "output_type": "display_data"
    }
   ],
   "source": [
    "df_train['Vehicles'].plot(legend=True, label='Training Data', figsize=(15,10))\n",
    "df_pred['Vehicles'].plot(legend=True, label='Prediction')"
   ]
  },
  {
   "cell_type": "code",
   "execution_count": 22,
   "id": "144b244c",
   "metadata": {},
   "outputs": [],
   "source": [
    "from sklearn.model_selection import train_test_split"
   ]
  },
  {
   "cell_type": "code",
   "execution_count": 33,
   "id": "ac402175",
   "metadata": {},
   "outputs": [],
   "source": [
    "X = df_train1.drop(['Vehicles'], axis = 1)\n",
    "y = df_train1['Vehicles']"
   ]
  },
  {
   "cell_type": "code",
   "execution_count": 24,
   "id": "933a03c1",
   "metadata": {},
   "outputs": [],
   "source": [
    "X_train, X_test, y_train, y_test = train_test_split(X, y, test_size=0.3, random_state=42)"
   ]
  },
  {
   "cell_type": "code",
   "execution_count": 25,
   "id": "592e31f0",
   "metadata": {},
   "outputs": [],
   "source": [
    "from sklearn.tree import DecisionTreeClassifier"
   ]
  },
  {
   "cell_type": "code",
   "execution_count": 26,
   "id": "e653f20c",
   "metadata": {},
   "outputs": [],
   "source": [
    "dtree = DecisionTreeClassifier()"
   ]
  },
  {
   "cell_type": "code",
   "execution_count": 27,
   "id": "c0dbbe53",
   "metadata": {},
   "outputs": [
    {
     "data": {
      "text/plain": [
       "DecisionTreeClassifier()"
      ]
     },
     "execution_count": 27,
     "metadata": {},
     "output_type": "execute_result"
    }
   ],
   "source": [
    "dtree.fit(X_train, y_train)"
   ]
  },
  {
   "cell_type": "code",
   "execution_count": 28,
   "id": "60be6718",
   "metadata": {},
   "outputs": [],
   "source": [
    "pred = dtree.predict(X_test)"
   ]
  },
  {
   "cell_type": "code",
   "execution_count": 29,
   "id": "cbda756a",
   "metadata": {},
   "outputs": [],
   "source": [
    "from sklearn import metrics"
   ]
  },
  {
   "cell_type": "code",
   "execution_count": 30,
   "id": "d90755b4",
   "metadata": {},
   "outputs": [
    {
     "data": {
      "text/plain": [
       "3.221390967026877"
      ]
     },
     "execution_count": 30,
     "metadata": {},
     "output_type": "execute_result"
    }
   ],
   "source": [
    "metrics.mean_absolute_error(y_test, pred)"
   ]
  },
  {
   "cell_type": "code",
   "execution_count": 31,
   "id": "a7a2835e",
   "metadata": {},
   "outputs": [
    {
     "data": {
      "text/plain": [
       "26.183845940703797"
      ]
     },
     "execution_count": 31,
     "metadata": {},
     "output_type": "execute_result"
    }
   ],
   "source": [
    "metrics.mean_squared_error(y_test, pred)"
   ]
  },
  {
   "cell_type": "code",
   "execution_count": 32,
   "id": "2e8b67e7",
   "metadata": {},
   "outputs": [
    {
     "data": {
      "text/plain": [
       "5.11701533520311"
      ]
     },
     "execution_count": 32,
     "metadata": {},
     "output_type": "execute_result"
    }
   ],
   "source": [
    "np.sqrt(metrics.mean_squared_error(y_test, pred))"
   ]
  }
 ],
 "metadata": {
  "kernelspec": {
   "display_name": "Python 3 (ipykernel)",
   "language": "python",
   "name": "python3"
  },
  "language_info": {
   "codemirror_mode": {
    "name": "ipython",
    "version": 3
   },
   "file_extension": ".py",
   "mimetype": "text/x-python",
   "name": "python",
   "nbconvert_exporter": "python",
   "pygments_lexer": "ipython3",
   "version": "3.9.12"
  }
 },
 "nbformat": 4,
 "nbformat_minor": 5
}
